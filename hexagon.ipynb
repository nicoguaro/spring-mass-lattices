{
 "cells": [
  {
   "cell_type": "code",
   "execution_count": 1,
   "metadata": {
    "collapsed": true
   },
   "outputs": [],
   "source": [
    "from __future__ import division\n",
    "import sympy as sym\n",
    "from sympy import sqrt, cos, sin, exp, pi, S, diff, Matrix, Derivative, I"
   ]
  },
  {
   "cell_type": "code",
   "execution_count": 2,
   "metadata": {
    "collapsed": true
   },
   "outputs": [],
   "source": [
    "sym.init_printing()"
   ]
  },
  {
   "cell_type": "code",
   "execution_count": 3,
   "metadata": {
    "collapsed": false
   },
   "outputs": [],
   "source": [
    "x = sym.symbols('x0:%d'%6)\n",
    "y = sym.symbols('y0:%d'%6)\n",
    "u = sym.symbols('u0:%d'%6)\n",
    "v = sym.symbols('v0:%d'%6)\n",
    "c, m, omega, a = sym.symbols('c m omega a', real=True)\n",
    "kx, ky = sym.symbols('kx ky', real=True)\n",
    "kp, km = sym.symbols('km kp', real=True)"
   ]
  },
  {
   "cell_type": "markdown",
   "metadata": {},
   "source": [
    "The unit cell looks like\n",
    "\n",
    "        5----O\n",
    "       /      \\\n",
    "      /        \\\n",
    "     4          1\n",
    "      \\        /\n",
    "       \\      /\n",
    "        3----2\n",
    "\n",
    "\n",
    "## 1. Equations of motion\n",
    "\n",
    "The kinetic energy has the form"
   ]
  },
  {
   "cell_type": "code",
   "execution_count": 4,
   "metadata": {
    "collapsed": false
   },
   "outputs": [],
   "source": [
    "def T(i):\n",
    "    return S(1)/6*m*(u[i]**2 + v[i]**2)"
   ]
  },
  {
   "cell_type": "code",
   "execution_count": 5,
   "metadata": {
    "collapsed": false
   },
   "outputs": [],
   "source": [
    "cx = c*cos(pi/3)\n",
    "cy = c*sin(pi/3)"
   ]
  },
  {
   "cell_type": "markdown",
   "metadata": {},
   "source": [
    "The potential energy has the form"
   ]
  },
  {
   "cell_type": "code",
   "execution_count": 6,
   "metadata": {
    "collapsed": true
   },
   "outputs": [],
   "source": [
    "V0 = S(1)/2*cx*(x[1] - x[0])**2 + S(1)/2*c*(x[5] - x[0])**2 +  S(1)/2*cy*(y[1] - y[0])**2\n",
    "V1 = S(1)/2*cx*(x[2] - x[1])**2 + S(1)/2*cx*(x[0] - x[1])**2 +  S(1)/2*cy*(y[2] - y[1])**2 + S(1)/2*cy*(y[0] - y[1])**2\n",
    "V2 = S(1)/2*cx*(x[1] - x[2])**2 + S(1)/2*c*(x[3] - x[2])**2 +  S(1)/2*cy*(y[1] - y[2])**2\n",
    "V3 =  S(1)/2*cx*(x[4] - x[3])**2 + S(1)/2*c*(x[2] - x[3])**2 +  S(1)/2*cy*(y[4] - y[3])**2\n",
    "V4 = S(1)/2*cx*(x[3] - x[4])**2 + S(1)/2*cx*(x[5] - x[4])**2 +  S(1)/2*cy*(y[3] - y[4])**2 + S(1)/2*cy*(y[5] - y[4])**2\n",
    "V5 =  S(1)/2*cx*(x[4] - x[5])**2 + S(1)/2*c*(x[5] - x[0])**2 +  S(1)/2*cy*(y[4] - y[5])**2"
   ]
  },
  {
   "cell_type": "code",
   "execution_count": 7,
   "metadata": {
    "collapsed": true
   },
   "outputs": [],
   "source": [
    "V = [V0, V1, V2, V3, V4, V5]"
   ]
  },
  {
   "cell_type": "code",
   "execution_count": 8,
   "metadata": {
    "collapsed": false
   },
   "outputs": [],
   "source": [
    "L = sum(T(i) - V[i]/2 for i in range(6)).simplify()"
   ]
  },
  {
   "cell_type": "code",
   "execution_count": 9,
   "metadata": {
    "collapsed": false
   },
   "outputs": [
    {
     "data": {
      "image/png": "[encoded data removed]",
      "text/latex": [
       "$$- \\frac{c}{4} \\left(x_{0} - x_{1}\\right)^{2} - \\frac{c}{2} \\left(x_{0} - x_{5}\\right)^{2} - \\frac{c}{4} \\left(x_{1} - x_{2}\\right)^{2} - \\frac{c}{2} \\left(x_{2} - x_{3}\\right)^{2} - \\frac{c}{4} \\left(x_{3} - x_{4}\\right)^{2} - \\frac{c}{4} \\left(x_{4} - x_{5}\\right)^{2} - \\frac{\\sqrt{3} c}{4} \\left(y_{0} - y_{1}\\right)^{2} - \\frac{\\sqrt{3} c}{4} \\left(y_{1} - y_{2}\\right)^{2} - \\frac{\\sqrt{3} c}{4} \\left(y_{3} - y_{4}\\right)^{2} - \\frac{\\sqrt{3} c}{4} \\left(y_{4} - y_{5}\\right)^{2} + \\frac{m}{6} \\left(u_{0}^{2} + v_{0}^{2}\\right) + \\frac{m}{6} \\left(u_{1}^{2} + v_{1}^{2}\\right) + \\frac{m}{6} \\left(u_{2}^{2} + v_{2}^{2}\\right) + \\frac{m}{6} \\left(u_{3}^{2} + v_{3}^{2}\\right) + \\frac{m}{6} \\left(u_{4}^{2} + v_{4}^{2}\\right) + \\frac{m}{6} \\left(u_{5}^{2} + v_{5}^{2}\\right)$$"
      ],
      "text/plain": [
       "             2              2              2              2              2    \n",
       "  c⋅(x₀ - x₁)    c⋅(x₀ - x₅)    c⋅(x₁ - x₂)    c⋅(x₂ - x₃)    c⋅(x₃ - x₄)    c\n",
       "- ──────────── - ──────────── - ──────────── - ──────────── - ──────────── - ─\n",
       "       4              2              4              2              4          \n",
       "\n",
       "          2     ___            2     ___            2     ___            2    \n",
       "⋅(x₄ - x₅)    ╲╱ 3 ⋅c⋅(y₀ - y₁)    ╲╱ 3 ⋅c⋅(y₁ - y₂)    ╲╱ 3 ⋅c⋅(y₃ - y₄)    ╲\n",
       "─────────── - ────────────────── - ────────────────── - ────────────────── - ─\n",
       "    4                 4                    4                    4             \n",
       "\n",
       " ___            2     ⎛  2     2⎞     ⎛  2     2⎞     ⎛  2     2⎞     ⎛  2    \n",
       "╱ 3 ⋅c⋅(y₄ - y₅)    m⋅⎝u₀  + v₀ ⎠   m⋅⎝u₁  + v₁ ⎠   m⋅⎝u₂  + v₂ ⎠   m⋅⎝u₃  + v\n",
       "───────────────── + ───────────── + ───────────── + ───────────── + ──────────\n",
       "       4                  6               6               6               6   \n",
       "\n",
       " 2⎞     ⎛  2     2⎞     ⎛  2     2⎞\n",
       "₃ ⎠   m⋅⎝u₄  + v₄ ⎠   m⋅⎝u₅  + v₅ ⎠\n",
       "─── + ───────────── + ─────────────\n",
       "            6               6      "
      ]
     },
     "execution_count": 9,
     "metadata": {},
     "output_type": "execute_result"
    }
   ],
   "source": [
    "L"
   ]
  },
  {
   "cell_type": "code",
   "execution_count": 10,
   "metadata": {
    "collapsed": false
   },
   "outputs": [],
   "source": [
    "coords = reduce(list.__add__, [[x[i], y[i]] for i in range(6)])"
   ]
  },
  {
   "cell_type": "code",
   "execution_count": 11,
   "metadata": {
    "collapsed": false,
    "scrolled": true
   },
   "outputs": [],
   "source": [
    "vars = reduce(list.__add__, [[u[i], v[i]] for i in range(6)])"
   ]
  },
  {
   "cell_type": "code",
   "execution_count": 12,
   "metadata": {
    "collapsed": false
   },
   "outputs": [
    {
     "data": {
      "image/png": "[encoded data removed]",
      "text/latex": [
       "$$\\left [ u_{0}, \\quad v_{0}, \\quad u_{1}, \\quad v_{1}, \\quad u_{2}, \\quad v_{2}, \\quad u_{3}, \\quad v_{3}, \\quad u_{4}, \\quad v_{4}, \\quad u_{5}, \\quad v_{5}\\right ]$$"
      ],
      "text/plain": [
       "[u₀, v₀, u₁, v₁, u₂, v₂, u₃, v₃, u₄, v₄, u₅, v₅]"
      ]
     },
     "execution_count": 12,
     "metadata": {},
     "output_type": "execute_result"
    }
   ],
   "source": [
    "vars"
   ]
  },
  {
   "cell_type": "code",
   "execution_count": 13,
   "metadata": {
    "collapsed": false
   },
   "outputs": [],
   "source": [
    "K = Matrix(12, 12, lambda i,j: diff(L, coords[i], coords[j]) )"
   ]
  },
  {
   "cell_type": "code",
   "execution_count": 14,
   "metadata": {
    "collapsed": false
   },
   "outputs": [],
   "source": [
    "M = Matrix(12, 12, lambda i,j: diff(diff(L, vars[i]).subs(vars[i], -omega**2*coords[i])\n",
    "                                    , coords[j]) )"
   ]
  },
  {
   "cell_type": "markdown",
   "metadata": {},
   "source": [
    "And the corresponding matrices are"
   ]
  },
  {
   "cell_type": "code",
   "execution_count": 15,
   "metadata": {
    "collapsed": false
   },
   "outputs": [
    {
     "data": {
      "image/png": "[encoded data removed]",
      "text/latex": [
       "$$\\left[\\begin{array}{cccccccccccc}- \\frac{3 c}{2} & 0 & \\frac{c}{2} & 0 & 0 & 0 & 0 & 0 & 0 & 0 & c & 0\\\\0 & - \\frac{\\sqrt{3} c}{2} & 0 & \\frac{\\sqrt{3} c}{2} & 0 & 0 & 0 & 0 & 0 & 0 & 0 & 0\\\\\\frac{c}{2} & 0 & - c & 0 & \\frac{c}{2} & 0 & 0 & 0 & 0 & 0 & 0 & 0\\\\0 & \\frac{\\sqrt{3} c}{2} & 0 & - \\sqrt{3} c & 0 & \\frac{\\sqrt{3} c}{2} & 0 & 0 & 0 & 0 & 0 & 0\\\\0 & 0 & \\frac{c}{2} & 0 & - \\frac{3 c}{2} & 0 & c & 0 & 0 & 0 & 0 & 0\\\\0 & 0 & 0 & \\frac{\\sqrt{3} c}{2} & 0 & - \\frac{\\sqrt{3} c}{2} & 0 & 0 & 0 & 0 & 0 & 0\\\\0 & 0 & 0 & 0 & c & 0 & - \\frac{3 c}{2} & 0 & \\frac{c}{2} & 0 & 0 & 0\\\\0 & 0 & 0 & 0 & 0 & 0 & 0 & - \\frac{\\sqrt{3} c}{2} & 0 & \\frac{\\sqrt{3} c}{2} & 0 & 0\\\\0 & 0 & 0 & 0 & 0 & 0 & \\frac{c}{2} & 0 & - c & 0 & \\frac{c}{2} & 0\\\\0 & 0 & 0 & 0 & 0 & 0 & 0 & \\frac{\\sqrt{3} c}{2} & 0 & - \\sqrt{3} c & 0 & \\frac{\\sqrt{3} c}{2}\\\\c & 0 & 0 & 0 & 0 & 0 & 0 & 0 & \\frac{c}{2} & 0 & - \\frac{3 c}{2} & 0\\\\0 & 0 & 0 & 0 & 0 & 0 & 0 & 0 & 0 & \\frac{\\sqrt{3} c}{2} & 0 & - \\frac{\\sqrt{3} c}{2}\\end{array}\\right]$$"
      ],
      "text/plain": [
       "⎡-3⋅c              c                                                          \n",
       "⎢─────      0      ─      0        0        0        0        0      0      0 \n",
       "⎢  2               2                                                          \n",
       "⎢                                                                             \n",
       "⎢          ___           ___                                                  \n",
       "⎢       -╲╱ 3 ⋅c       ╲╱ 3 ⋅c                                                \n",
       "⎢  0    ─────────  0   ───────     0        0        0        0      0      0 \n",
       "⎢           2             2                                                   \n",
       "⎢                                                                             \n",
       "⎢  c                               c                                          \n",
       "⎢  ─        0      -c     0        ─        0        0        0      0      0 \n",
       "⎢  2                               2                                          \n",
       "⎢                                                                             \n",
       "⎢          ___                             ___                                \n",
       "⎢        ╲╱ 3 ⋅c          ___            ╲╱ 3 ⋅c                              \n",
       "⎢  0     ───────   0   -╲╱ 3 ⋅c    0     ───────     0        0      0      0 \n",
       "⎢           2                               2                                 \n",
       "⎢                                                                             \n",
       "⎢                  c             -3⋅c                                         \n",
       "⎢  0        0      ─      0      ─────      0        c        0      0      0 \n",
       "⎢                  2               2                                          \n",
       "⎢                                                                             \n",
       "⎢                        ___               ___                                \n",
       "⎢                      ╲╱ 3 ⋅c          -╲╱ 3 ⋅c                              \n",
       "⎢  0        0      0   ───────     0    ─────────    0        0      0      0 \n",
       "⎢                         2                 2                                 \n",
       "⎢                                                                             \n",
       "⎢                                                  -3⋅c              c        \n",
       "⎢  0        0      0      0        c        0      ─────      0      ─      0 \n",
       "⎢                                                    2               2        \n",
       "⎢                                                                             \n",
       "⎢                                                            ___           ___\n",
       "⎢                                                         -╲╱ 3 ⋅c       ╲╱ 3 \n",
       "⎢  0        0      0      0        0        0        0    ─────────  0   ─────\n",
       "⎢                                                             2             2 \n",
       "⎢                                                                             \n",
       "⎢                                                    c                        \n",
       "⎢  0        0      0      0        0        0        ─        0      -c     0 \n",
       "⎢                                                    2                        \n",
       "⎢                                                                             \n",
       "⎢                                                            ___              \n",
       "⎢                                                          ╲╱ 3 ⋅c          __\n",
       "⎢  0        0      0      0        0        0        0     ───────   0   -╲╱ 3\n",
       "⎢                                                             2               \n",
       "⎢                                                                             \n",
       "⎢                                                                    c        \n",
       "⎢  c        0      0      0        0        0        0        0      ─      0 \n",
       "⎢                                                                    2        \n",
       "⎢                                                                             \n",
       "⎢                                                                          ___\n",
       "⎢                                                                        ╲╱ 3 \n",
       "⎢  0        0      0      0        0        0        0        0      0   ─────\n",
       "⎣                                                                           2 \n",
       "\n",
       "                     ⎤\n",
       "       c        0    ⎥\n",
       "                     ⎥\n",
       "                     ⎥\n",
       "                     ⎥\n",
       "                     ⎥\n",
       "       0        0    ⎥\n",
       "                     ⎥\n",
       "                     ⎥\n",
       "                     ⎥\n",
       "       0        0    ⎥\n",
       "                     ⎥\n",
       "                     ⎥\n",
       "                     ⎥\n",
       "                     ⎥\n",
       "       0        0    ⎥\n",
       "                     ⎥\n",
       "                     ⎥\n",
       "                     ⎥\n",
       "       0        0    ⎥\n",
       "                     ⎥\n",
       "                     ⎥\n",
       "                     ⎥\n",
       "                     ⎥\n",
       "       0        0    ⎥\n",
       "                     ⎥\n",
       "                     ⎥\n",
       "                     ⎥\n",
       "       0        0    ⎥\n",
       "                     ⎥\n",
       "                     ⎥\n",
       "                     ⎥\n",
       "⋅c                   ⎥\n",
       "──     0        0    ⎥\n",
       "                     ⎥\n",
       "                     ⎥\n",
       "       c             ⎥\n",
       "       ─        0    ⎥\n",
       "       2             ⎥\n",
       "                     ⎥\n",
       "               ___   ⎥\n",
       "_            ╲╱ 3 ⋅c ⎥\n",
       " ⋅c    0     ─────── ⎥\n",
       "                2    ⎥\n",
       "                     ⎥\n",
       "     -3⋅c            ⎥\n",
       "     ─────      0    ⎥\n",
       "       2             ⎥\n",
       "                     ⎥\n",
       "               ___   ⎥\n",
       "⋅c          -╲╱ 3 ⋅c ⎥\n",
       "──     0    ─────────⎥\n",
       "                2    ⎦"
      ]
     },
     "execution_count": 15,
     "metadata": {},
     "output_type": "execute_result"
    }
   ],
   "source": [
    "K"
   ]
  },
  {
   "cell_type": "code",
   "execution_count": 16,
   "metadata": {
    "collapsed": false
   },
   "outputs": [
    {
     "data": {
      "image/png": "[encoded data removed]",
      "text/latex": [
       "$$\\left[\\begin{array}{cccccccccccc}- \\frac{m \\omega^{2}}{3} & 0 & 0 & 0 & 0 & 0 & 0 & 0 & 0 & 0 & 0 & 0\\\\0 & - \\frac{m \\omega^{2}}{3} & 0 & 0 & 0 & 0 & 0 & 0 & 0 & 0 & 0 & 0\\\\0 & 0 & - \\frac{m \\omega^{2}}{3} & 0 & 0 & 0 & 0 & 0 & 0 & 0 & 0 & 0\\\\0 & 0 & 0 & - \\frac{m \\omega^{2}}{3} & 0 & 0 & 0 & 0 & 0 & 0 & 0 & 0\\\\0 & 0 & 0 & 0 & - \\frac{m \\omega^{2}}{3} & 0 & 0 & 0 & 0 & 0 & 0 & 0\\\\0 & 0 & 0 & 0 & 0 & - \\frac{m \\omega^{2}}{3} & 0 & 0 & 0 & 0 & 0 & 0\\\\0 & 0 & 0 & 0 & 0 & 0 & - \\frac{m \\omega^{2}}{3} & 0 & 0 & 0 & 0 & 0\\\\0 & 0 & 0 & 0 & 0 & 0 & 0 & - \\frac{m \\omega^{2}}{3} & 0 & 0 & 0 & 0\\\\0 & 0 & 0 & 0 & 0 & 0 & 0 & 0 & - \\frac{m \\omega^{2}}{3} & 0 & 0 & 0\\\\0 & 0 & 0 & 0 & 0 & 0 & 0 & 0 & 0 & - \\frac{m \\omega^{2}}{3} & 0 & 0\\\\0 & 0 & 0 & 0 & 0 & 0 & 0 & 0 & 0 & 0 & - \\frac{m \\omega^{2}}{3} & 0\\\\0 & 0 & 0 & 0 & 0 & 0 & 0 & 0 & 0 & 0 & 0 & - \\frac{m \\omega^{2}}{3}\\end{array}\\right]$$"
      ],
      "text/plain": [
       "⎡    2                                                                        \n",
       "⎢-m⋅ω                                                                         \n",
       "⎢──────    0       0       0       0       0       0       0       0       0  \n",
       "⎢  3                                                                          \n",
       "⎢                                                                             \n",
       "⎢            2                                                                \n",
       "⎢        -m⋅ω                                                                 \n",
       "⎢  0     ──────    0       0       0       0       0       0       0       0  \n",
       "⎢          3                                                                  \n",
       "⎢                                                                             \n",
       "⎢                    2                                                        \n",
       "⎢                -m⋅ω                                                         \n",
       "⎢  0       0     ──────    0       0       0       0       0       0       0  \n",
       "⎢                  3                                                          \n",
       "⎢                                                                             \n",
       "⎢                            2                                                \n",
       "⎢                        -m⋅ω                                                 \n",
       "⎢  0       0       0     ──────    0       0       0       0       0       0  \n",
       "⎢                          3                                                  \n",
       "⎢                                                                             \n",
       "⎢                                    2                                        \n",
       "⎢                                -m⋅ω                                         \n",
       "⎢  0       0       0       0     ──────    0       0       0       0       0  \n",
       "⎢                                  3                                          \n",
       "⎢                                                                             \n",
       "⎢                                            2                                \n",
       "⎢                                        -m⋅ω                                 \n",
       "⎢  0       0       0       0       0     ──────    0       0       0       0  \n",
       "⎢                                          3                                  \n",
       "⎢                                                                             \n",
       "⎢                                                    2                        \n",
       "⎢                                                -m⋅ω                         \n",
       "⎢  0       0       0       0       0       0     ──────    0       0       0  \n",
       "⎢                                                  3                          \n",
       "⎢                                                                             \n",
       "⎢                                                            2                \n",
       "⎢                                                        -m⋅ω                 \n",
       "⎢  0       0       0       0       0       0       0     ──────    0       0  \n",
       "⎢                                                          3                  \n",
       "⎢                                                                             \n",
       "⎢                                                                    2        \n",
       "⎢                                                                -m⋅ω         \n",
       "⎢  0       0       0       0       0       0       0       0     ──────    0  \n",
       "⎢                                                                  3          \n",
       "⎢                                                                             \n",
       "⎢                                                                            2\n",
       "⎢                                                                        -m⋅ω \n",
       "⎢  0       0       0       0       0       0       0       0       0     ─────\n",
       "⎢                                                                          3  \n",
       "⎢                                                                             \n",
       "⎢                                                                             \n",
       "⎢                                                                             \n",
       "⎢  0       0       0       0       0       0       0       0       0       0  \n",
       "⎢                                                                             \n",
       "⎢                                                                             \n",
       "⎢                                                                             \n",
       "⎢                                                                             \n",
       "⎢  0       0       0       0       0       0       0       0       0       0  \n",
       "⎣                                                                             \n",
       "\n",
       "                 ⎤\n",
       "                 ⎥\n",
       "     0       0   ⎥\n",
       "                 ⎥\n",
       "                 ⎥\n",
       "                 ⎥\n",
       "                 ⎥\n",
       "     0       0   ⎥\n",
       "                 ⎥\n",
       "                 ⎥\n",
       "                 ⎥\n",
       "                 ⎥\n",
       "     0       0   ⎥\n",
       "                 ⎥\n",
       "                 ⎥\n",
       "                 ⎥\n",
       "                 ⎥\n",
       "     0       0   ⎥\n",
       "                 ⎥\n",
       "                 ⎥\n",
       "                 ⎥\n",
       "                 ⎥\n",
       "     0       0   ⎥\n",
       "                 ⎥\n",
       "                 ⎥\n",
       "                 ⎥\n",
       "                 ⎥\n",
       "     0       0   ⎥\n",
       "                 ⎥\n",
       "                 ⎥\n",
       "                 ⎥\n",
       "                 ⎥\n",
       "     0       0   ⎥\n",
       "                 ⎥\n",
       "                 ⎥\n",
       "                 ⎥\n",
       "                 ⎥\n",
       "     0       0   ⎥\n",
       "                 ⎥\n",
       "                 ⎥\n",
       "                 ⎥\n",
       "                 ⎥\n",
       "     0       0   ⎥\n",
       "                 ⎥\n",
       "                 ⎥\n",
       "                 ⎥\n",
       "                 ⎥\n",
       "─    0       0   ⎥\n",
       "                 ⎥\n",
       "                 ⎥\n",
       "       2         ⎥\n",
       "   -m⋅ω          ⎥\n",
       "   ──────    0   ⎥\n",
       "     3           ⎥\n",
       "                 ⎥\n",
       "               2 ⎥\n",
       "           -m⋅ω  ⎥\n",
       "     0     ──────⎥\n",
       "             3   ⎦"
      ]
     },
     "execution_count": 16,
     "metadata": {},
     "output_type": "execute_result"
    }
   ],
   "source": [
    "M"
   ]
  },
  {
   "cell_type": "markdown",
   "metadata": {},
   "source": [
    "In this case we don't need to make the row/column operations\n",
    "on the mass matrix, since it is an identity matrix (times a\n",
    "constant)."
   ]
  },
  {
   "cell_type": "markdown",
   "metadata": {},
   "source": [
    "Row 1 and 2 by $\\exp(i k_x a)$"
   ]
  },
  {
   "cell_type": "code",
   "execution_count": 17,
   "metadata": {
    "collapsed": false
   },
   "outputs": [],
   "source": [
    "phase_x = [a*cos(pi/3), a, a*cos(pi/3), -a*cos(pi/3), -a, -a*cos(pi/3)]\n",
    "phase_y = [-a*sin(pi/3), 0, a*sin(pi/3), a*sin(pi/3), 0, -a*sin(pi/3)]"
   ]
  },
  {
   "cell_type": "code",
   "execution_count": 18,
   "metadata": {
    "collapsed": false
   },
   "outputs": [],
   "source": [
    "M1 = Matrix(12, 12, lambda i,j: exp(-I*kx*phase_x[i//2])*exp(-I*ky*phase_y[i//2]) if i==j else 0)"
   ]
  },
  {
   "cell_type": "code",
   "execution_count": 19,
   "metadata": {
    "collapsed": false
   },
   "outputs": [],
   "source": [
    "K2 = M1*K*M1.conjugate()"
   ]
  },
  {
   "cell_type": "code",
   "execution_count": 20,
   "metadata": {
    "collapsed": false
   },
   "outputs": [
    {
     "data": {
      "image/png": "[encoded data removed]",
      "text/latex": [
       "$$\\left[\\begin{array}{cccccccccccc}- \\frac{3 c}{2} & 0 & \\frac{c}{2} e^{\\frac{i a}{2} kx} e^{\\frac{i a}{2} \\sqrt{3} ky} & 0 & 0 & 0 & 0 & 0 & 0 & 0 & c e^{- i a kx} & 0\\\\0 & - \\frac{\\sqrt{3} c}{2} & 0 & \\frac{\\sqrt{3} c}{2} e^{\\frac{i a}{2} kx} e^{\\frac{i a}{2} \\sqrt{3} ky} & 0 & 0 & 0 & 0 & 0 & 0 & 0 & 0\\\\\\frac{c}{2} e^{- \\frac{i a}{2} kx} e^{- \\frac{i a}{2} \\sqrt{3} ky} & 0 & - c & 0 & \\frac{c}{2} e^{- \\frac{i a}{2} kx} e^{\\frac{i a}{2} \\sqrt{3} ky} & 0 & 0 & 0 & 0 & 0 & 0 & 0\\\\0 & \\frac{\\sqrt{3} c}{2} e^{- \\frac{i a}{2} kx} e^{- \\frac{i a}{2} \\sqrt{3} ky} & 0 & - \\sqrt{3} c & 0 & \\frac{\\sqrt{3} c}{2} e^{- \\frac{i a}{2} kx} e^{\\frac{i a}{2} \\sqrt{3} ky} & 0 & 0 & 0 & 0 & 0 & 0\\\\0 & 0 & \\frac{c}{2} e^{\\frac{i a}{2} kx} e^{- \\frac{i a}{2} \\sqrt{3} ky} & 0 & - \\frac{3 c}{2} & 0 & c e^{- i a kx} & 0 & 0 & 0 & 0 & 0\\\\0 & 0 & 0 & \\frac{\\sqrt{3} c}{2} e^{\\frac{i a}{2} kx} e^{- \\frac{i a}{2} \\sqrt{3} ky} & 0 & - \\frac{\\sqrt{3} c}{2} & 0 & 0 & 0 & 0 & 0 & 0\\\\0 & 0 & 0 & 0 & c e^{i a kx} & 0 & - \\frac{3 c}{2} & 0 & \\frac{c}{2} e^{- \\frac{i a}{2} kx} e^{- \\frac{i a}{2} \\sqrt{3} ky} & 0 & 0 & 0\\\\0 & 0 & 0 & 0 & 0 & 0 & 0 & - \\frac{\\sqrt{3} c}{2} & 0 & \\frac{\\sqrt{3} c}{2} e^{- \\frac{i a}{2} kx} e^{- \\frac{i a}{2} \\sqrt{3} ky} & 0 & 0\\\\0 & 0 & 0 & 0 & 0 & 0 & \\frac{c}{2} e^{\\frac{i a}{2} kx} e^{\\frac{i a}{2} \\sqrt{3} ky} & 0 & - c & 0 & \\frac{c}{2} e^{\\frac{i a}{2} kx} e^{- \\frac{i a}{2} \\sqrt{3} ky} & 0\\\\0 & 0 & 0 & 0 & 0 & 0 & 0 & \\frac{\\sqrt{3} c}{2} e^{\\frac{i a}{2} kx} e^{\\frac{i a}{2} \\sqrt{3} ky} & 0 & - \\sqrt{3} c & 0 & \\frac{\\sqrt{3} c}{2} e^{\\frac{i a}{2} kx} e^{- \\frac{i a}{2} \\sqrt{3} ky}\\\\c e^{i a kx} & 0 & 0 & 0 & 0 & 0 & 0 & 0 & \\frac{c}{2} e^{- \\frac{i a}{2} kx} e^{\\frac{i a}{2} \\sqrt{3} ky} & 0 & - \\frac{3 c}{2} & 0\\\\0 & 0 & 0 & 0 & 0 & 0 & 0 & 0 & 0 & \\frac{\\sqrt{3} c}{2} e^{- \\frac{i a}{2} kx} e^{\\frac{i a}{2} \\sqrt{3} ky} & 0 & - \\frac{\\sqrt{3} c}{2}\\end{array}\\right]$$"
      ],
      "text/plain": [
       "⎡                                                                             \n",
       "⎢                                                                    ⅈ⋅a⋅kx  ╲\n",
       "⎢                                                                    ──────  ─\n",
       "⎢                                                                      2      \n",
       "⎢           -3⋅c                                                  c⋅ℯ      ⋅ℯ \n",
       "⎢           ─────                             0                   ────────────\n",
       "⎢             2                                                              2\n",
       "⎢                                                                             \n",
       "⎢                                                                             \n",
       "⎢                                                                             \n",
       "⎢                                                                             \n",
       "⎢                                            ___                              \n",
       "⎢                                         -╲╱ 3 ⋅c                            \n",
       "⎢             0                           ─────────                          0\n",
       "⎢                                             2                               \n",
       "⎢                                                                             \n",
       "⎢                ___                                                          \n",
       "⎢   -ⅈ⋅a⋅kx   -╲╱ 3 ⋅ⅈ⋅a⋅ky                                                   \n",
       "⎢   ────────  ──────────────                                                  \n",
       "⎢      2            2                                                         \n",
       "⎢c⋅ℯ        ⋅ℯ                                                                \n",
       "⎢───────────────────────────                  0                             -c\n",
       "⎢             2                                                               \n",
       "⎢                                                                             \n",
       "⎢                                                   ___                       \n",
       "⎢                                      -ⅈ⋅a⋅kx   -╲╱ 3 ⋅ⅈ⋅a⋅ky                \n",
       "⎢                                      ────────  ──────────────               \n",
       "⎢                               ___       2            2                      \n",
       "⎢                             ╲╱ 3 ⋅c⋅ℯ        ⋅ℯ                             \n",
       "⎢             0               ─────────────────────────────────              0\n",
       "⎢                                             2                               \n",
       "⎢                                                                             \n",
       "⎢                                                                             \n",
       "⎢                                                                   ⅈ⋅a⋅kx  -╲\n",
       "⎢                                                                   ──────  ──\n",
       "⎢                                                                     2       \n",
       "⎢                                                                c⋅ℯ      ⋅ℯ  \n",
       "⎢             0                               0                  ─────────────\n",
       "⎢                                                                            2\n",
       "⎢                                                                             \n",
       "⎢                                                                             \n",
       "⎢                                                                             \n",
       "⎢                                                                             \n",
       "⎢                                                                             \n",
       "⎢                                                                             \n",
       "⎢             0                               0                              0\n",
       "⎢                                                                             \n",
       "⎢                                                                             \n",
       "⎢                                                                             \n",
       "⎢                                                                             \n",
       "⎢                                                                             \n",
       "⎢                                                                             \n",
       "⎢                                                                             \n",
       "⎢             0                               0                              0\n",
       "⎢                                                                             \n",
       "⎢                                                                             \n",
       "⎢                                                                             \n",
       "⎢                                                                             \n",
       "⎢                                                                             \n",
       "⎢                                                                             \n",
       "⎢                                                                             \n",
       "⎢             0                               0                              0\n",
       "⎢                                                                             \n",
       "⎢                                                                             \n",
       "⎢                                                                             \n",
       "⎢                                                                             \n",
       "⎢                                                                             \n",
       "⎢                                                                             \n",
       "⎢                                                                             \n",
       "⎢             0                               0                              0\n",
       "⎢                                                                             \n",
       "⎢                                                                             \n",
       "⎢                                                                             \n",
       "⎢                                                                             \n",
       "⎢                                                                             \n",
       "⎢                                                                             \n",
       "⎢                                                                             \n",
       "⎢             0                               0                              0\n",
       "⎢                                                                             \n",
       "⎢                                                                             \n",
       "⎢                                                                             \n",
       "⎢                                                                             \n",
       "⎢                                                                             \n",
       "⎢                                                                             \n",
       "⎢            ⅈ⋅a⋅kx                                                           \n",
       "⎢         c⋅ℯ                                 0                              0\n",
       "⎢                                                                             \n",
       "⎢                                                                             \n",
       "⎢                                                                             \n",
       "⎢                                                                             \n",
       "⎢                                                                             \n",
       "⎢                                                                             \n",
       "⎢                                                                             \n",
       "⎢             0                               0                              0\n",
       "⎣                                                                             \n",
       "\n",
       " ___                                                                          \n",
       "╱ 3 ⋅ⅈ⋅a⋅ky                                                                   \n",
       "───────────                                                                   \n",
       "    2                                                                         \n",
       "                                                                              \n",
       "───────────                  0                             0                  \n",
       "                                                                              \n",
       "                                                                              \n",
       "                                  ___                                         \n",
       "                        ⅈ⋅a⋅kx  ╲╱ 3 ⋅ⅈ⋅a⋅ky                                  \n",
       "                        ──────  ────────────                                  \n",
       "                 ___      2          2                                        \n",
       "               ╲╱ 3 ⋅c⋅ℯ      ⋅ℯ                                              \n",
       "               ─────────────────────────────               0                  \n",
       "                             2                                                \n",
       "                                                                              \n",
       "                                                              ___             \n",
       "                                                  -ⅈ⋅a⋅kx   ╲╱ 3 ⋅ⅈ⋅a⋅ky      \n",
       "                                                  ────────  ────────────      \n",
       "                                                     2           2            \n",
       "                                               c⋅ℯ        ⋅ℯ                  \n",
       "                             0                 ─────────────────────────      \n",
       "                                                           2                  \n",
       "                                                                              \n",
       "                                                                              \n",
       "                                                                              \n",
       "                                                                              \n",
       "                                                                            __\n",
       "                            ___                                           ╲╱ 3\n",
       "                         -╲╱ 3 ⋅c                          0              ────\n",
       "                                                                              \n",
       "                                                                              \n",
       " ___                                                                          \n",
       "╱ 3 ⋅ⅈ⋅a⋅ky                                                                   \n",
       "────────────                                                                  \n",
       "    2                                                                         \n",
       "                                                         -3⋅c                 \n",
       "────────────                 0                           ─────                \n",
       "                                                           2                  \n",
       "                                                                              \n",
       "                                  ___                                         \n",
       "                       ⅈ⋅a⋅kx  -╲╱ 3 ⋅ⅈ⋅a⋅ky                                  \n",
       "                       ──────  ──────────────                                 \n",
       "                ___      2           2                                        \n",
       "              ╲╱ 3 ⋅c⋅ℯ      ⋅ℯ                                               \n",
       "              ───────────────────────────────              0                  \n",
       "                             2                                                \n",
       "                                                                              \n",
       "                                                                              \n",
       "                                                                              \n",
       "                                                                              \n",
       "                                                                              \n",
       "                                                          ⅈ⋅a⋅kx              \n",
       "                             0                         c⋅ℯ                    \n",
       "                                                                              \n",
       "                                                                              \n",
       "                                                                              \n",
       "                                                                              \n",
       "                                                                              \n",
       "                                                                              \n",
       "                                                                              \n",
       "                             0                             0                  \n",
       "                                                                              \n",
       "                                                                              \n",
       "                                                                              \n",
       "                                                                              \n",
       "                                                                              \n",
       "                                                                              \n",
       "                                                                              \n",
       "                             0                             0                  \n",
       "                                                                              \n",
       "                                                                              \n",
       "                                                                              \n",
       "                                                                              \n",
       "                                                                              \n",
       "                                                                              \n",
       "                                                                              \n",
       "                             0                             0                  \n",
       "                                                                              \n",
       "                                                                              \n",
       "                                                                              \n",
       "                                                                              \n",
       "                                                                              \n",
       "                                                                              \n",
       "                                                                              \n",
       "                             0                             0                  \n",
       "                                                                              \n",
       "                                                                              \n",
       "                                                                              \n",
       "                                                                              \n",
       "                                                                              \n",
       "                                                                              \n",
       "                                                                              \n",
       "                             0                             0                  \n",
       "                                                                              \n",
       "\n",
       "                                                                              \n",
       "                                                                              \n",
       "                                                                              \n",
       "                                                                              \n",
       "                                                                              \n",
       "           0                            0                           0         \n",
       "                                                                              \n",
       "                                                                              \n",
       "                                                                              \n",
       "                                                                              \n",
       "                                                                              \n",
       "                                                                              \n",
       "                                                                              \n",
       "           0                            0                           0         \n",
       "                                                                              \n",
       "                                                                              \n",
       "                                                                              \n",
       "                                                                              \n",
       "                                                                              \n",
       "                                                                              \n",
       "                                                                              \n",
       "           0                            0                           0         \n",
       "                                                                              \n",
       "                                                                              \n",
       "                 ___                                                          \n",
       "     -ⅈ⋅a⋅kx   ╲╱ 3 ⋅ⅈ⋅a⋅ky                                                   \n",
       "     ────────  ────────────                                                   \n",
       "_       2           2                                                         \n",
       " ⋅c⋅ℯ        ⋅ℯ                                                               \n",
       "───────────────────────────             0                           0         \n",
       "           2                                                                  \n",
       "                                                                              \n",
       "                                                                              \n",
       "                                                                              \n",
       "                                                                              \n",
       "                                                                              \n",
       "                                      -ⅈ⋅a⋅kx                                 \n",
       "           0                       c⋅ℯ                              0         \n",
       "                                                                              \n",
       "                                                                              \n",
       "                                                                              \n",
       "                                                                              \n",
       "                                                                              \n",
       "          ___                                                                 \n",
       "       -╲╱ 3 ⋅c                                                               \n",
       "       ─────────                        0                           0         \n",
       "           2                                                                  \n",
       "                                                                              \n",
       "                                                                              \n",
       "                                                                              \n",
       "                                                                              \n",
       "                                                                              \n",
       "                                      -3⋅c                                    \n",
       "           0                          ─────                         0         \n",
       "                                        2                                     \n",
       "                                                                              \n",
       "                                                                              \n",
       "                                                                              \n",
       "                                                                              \n",
       "                                                                   ___        \n",
       "                                                                -╲╱ 3 ⋅c      \n",
       "           0                            0                       ─────────     \n",
       "                                                                    2         \n",
       "                                                                              \n",
       "                                          ___                                 \n",
       "                                ⅈ⋅a⋅kx  ╲╱ 3 ⋅ⅈ⋅a⋅ky                          \n",
       "                                ──────  ────────────                          \n",
       "                                  2          2                                \n",
       "                             c⋅ℯ      ⋅ℯ                                      \n",
       "           0                 ───────────────────────                0         \n",
       "                                        2                                     \n",
       "                                                                              \n",
       "                                                                         ___  \n",
       "                                                               ⅈ⋅a⋅kx  ╲╱ 3 ⋅ⅈ\n",
       "                                                               ──────  ───────\n",
       "                                                        ___      2          2 \n",
       "                                                      ╲╱ 3 ⋅c⋅ℯ      ⋅ℯ       \n",
       "           0                            0             ────────────────────────\n",
       "                                                                    2         \n",
       "                                                                              \n",
       "                                                                              \n",
       "                                                                              \n",
       "                                                                              \n",
       "                                                                              \n",
       "                                                                              \n",
       "           0                            0                           0         \n",
       "                                                                              \n",
       "                                                                              \n",
       "                                                                              \n",
       "                                                                              \n",
       "                                                                              \n",
       "                                                                              \n",
       "                                                                              \n",
       "           0                            0                           0         \n",
       "                                                                              \n",
       "\n",
       "                                                                              \n",
       "                                                                              \n",
       "                                                                              \n",
       "                                                                              \n",
       "                                                                              \n",
       "                    0                               0                         \n",
       "                                                                              \n",
       "                                                                              \n",
       "                                                                              \n",
       "                                                                              \n",
       "                                                                              \n",
       "                                                                              \n",
       "                                                                              \n",
       "                    0                               0                         \n",
       "                                                                              \n",
       "                                                                              \n",
       "                                                                              \n",
       "                                                                              \n",
       "                                                                              \n",
       "                                                                              \n",
       "                                                                              \n",
       "                    0                               0                         \n",
       "                                                                              \n",
       "                                                                              \n",
       "                                                                              \n",
       "                                                                              \n",
       "                                                                              \n",
       "                                                                              \n",
       "                                                                              \n",
       "                    0                               0                         \n",
       "                                                                              \n",
       "                                                                              \n",
       "                                                                              \n",
       "                                                                              \n",
       "                                                                              \n",
       "                                                                              \n",
       "                                                                              \n",
       "                    0                               0                         \n",
       "                                                                              \n",
       "                                                                              \n",
       "                                                                              \n",
       "                                                                              \n",
       "                                                                              \n",
       "                                                                              \n",
       "                                                                              \n",
       "                    0                               0                         \n",
       "                                                                              \n",
       "                                                                              \n",
       "                       ___                                                    \n",
       "          -ⅈ⋅a⋅kx   -╲╱ 3 ⋅ⅈ⋅a⋅ky                                             \n",
       "          ────────  ──────────────                                            \n",
       "             2            2                                                   \n",
       "       c⋅ℯ        ⋅ℯ                                                          \n",
       "       ───────────────────────────                  0                         \n",
       "                    2                                                         \n",
       "                                                                              \n",
       "                                                          ___                 \n",
       "                                             -ⅈ⋅a⋅kx   -╲╱ 3 ⋅ⅈ⋅a⋅ky          \n",
       "                                             ────────  ──────────────         \n",
       "                                      ___       2            2                \n",
       "                                    ╲╱ 3 ⋅c⋅ℯ        ⋅ℯ                       \n",
       "                    0               ─────────────────────────────────         \n",
       "                                                    2                         \n",
       "                                                                              \n",
       "                                                                              \n",
       "                                                                          ⅈ⋅a⋅\n",
       "                                                                          ────\n",
       "                                                                            2 \n",
       "                                                                       c⋅ℯ    \n",
       "                   -c                               0                  ───────\n",
       "                                                                              \n",
       "                                                                              \n",
       "                                                                              \n",
       "⋅a⋅ky                                                                         \n",
       "─────                                                                         \n",
       "                                                                              \n",
       "                                                   ___                        \n",
       "─────               0                           -╲╱ 3 ⋅c                      \n",
       "                                                                              \n",
       "                                                                              \n",
       "                       ___                                                    \n",
       "           -ⅈ⋅a⋅kx   ╲╱ 3 ⋅ⅈ⋅a⋅ky                                             \n",
       "           ────────  ────────────                                             \n",
       "              2           2                                                   \n",
       "        c⋅ℯ        ⋅ℯ                                                         \n",
       "        ─────────────────────────                   0                         \n",
       "                    2                                                         \n",
       "                                                                              \n",
       "                                                          ___                 \n",
       "                                              -ⅈ⋅a⋅kx   ╲╱ 3 ⋅ⅈ⋅a⋅ky          \n",
       "                                              ────────  ────────────          \n",
       "                                       ___       2           2                \n",
       "                                     ╲╱ 3 ⋅c⋅ℯ        ⋅ℯ                      \n",
       "                    0                ───────────────────────────────          \n",
       "                                                    2                         \n",
       "\n",
       "                                                   ⎤\n",
       "                                                   ⎥\n",
       "                                                   ⎥\n",
       "                                                   ⎥\n",
       "   -ⅈ⋅a⋅kx                                         ⎥\n",
       "c⋅ℯ                                0               ⎥\n",
       "                                                   ⎥\n",
       "                                                   ⎥\n",
       "                                                   ⎥\n",
       "                                                   ⎥\n",
       "                                                   ⎥\n",
       "                                                   ⎥\n",
       "                                                   ⎥\n",
       "     0                             0               ⎥\n",
       "                                                   ⎥\n",
       "                                                   ⎥\n",
       "                                                   ⎥\n",
       "                                                   ⎥\n",
       "                                                   ⎥\n",
       "                                                   ⎥\n",
       "                                                   ⎥\n",
       "     0                             0               ⎥\n",
       "                                                   ⎥\n",
       "                                                   ⎥\n",
       "                                                   ⎥\n",
       "                                                   ⎥\n",
       "                                                   ⎥\n",
       "                                                   ⎥\n",
       "                                                   ⎥\n",
       "     0                             0               ⎥\n",
       "                                                   ⎥\n",
       "                                                   ⎥\n",
       "                                                   ⎥\n",
       "                                                   ⎥\n",
       "                                                   ⎥\n",
       "                                                   ⎥\n",
       "                                                   ⎥\n",
       "     0                             0               ⎥\n",
       "                                                   ⎥\n",
       "                                                   ⎥\n",
       "                                                   ⎥\n",
       "                                                   ⎥\n",
       "                                                   ⎥\n",
       "                                                   ⎥\n",
       "                                                   ⎥\n",
       "     0                             0               ⎥\n",
       "                                                   ⎥\n",
       "                                                   ⎥\n",
       "                                                   ⎥\n",
       "                                                   ⎥\n",
       "                                                   ⎥\n",
       "                                                   ⎥\n",
       "                                                   ⎥\n",
       "     0                             0               ⎥\n",
       "                                                   ⎥\n",
       "                                                   ⎥\n",
       "                                                   ⎥\n",
       "                                                   ⎥\n",
       "                                                   ⎥\n",
       "                                                   ⎥\n",
       "                                                   ⎥\n",
       "     0                             0               ⎥\n",
       "                                                   ⎥\n",
       "                                                   ⎥\n",
       "       ___                                         ⎥\n",
       "kx  -╲╱ 3 ⋅ⅈ⋅a⋅ky                                  ⎥\n",
       "──  ──────────────                                 ⎥\n",
       "          2                                        ⎥\n",
       "  ⋅ℯ                                               ⎥\n",
       "──────────────────                 0               ⎥\n",
       "     2                                             ⎥\n",
       "                                                   ⎥\n",
       "                                        ___        ⎥\n",
       "                             ⅈ⋅a⋅kx  -╲╱ 3 ⋅ⅈ⋅a⋅ky ⎥\n",
       "                             ──────  ──────────────⎥\n",
       "                      ___      2           2       ⎥\n",
       "                    ╲╱ 3 ⋅c⋅ℯ      ⋅ℯ              ⎥\n",
       "     0              ───────────────────────────────⎥\n",
       "                                   2               ⎥\n",
       "                                                   ⎥\n",
       "                                                   ⎥\n",
       "                                                   ⎥\n",
       "                                                   ⎥\n",
       "                                                   ⎥\n",
       "   -3⋅c                                            ⎥\n",
       "   ─────                           0               ⎥\n",
       "     2                                             ⎥\n",
       "                                                   ⎥\n",
       "                                                   ⎥\n",
       "                                                   ⎥\n",
       "                                                   ⎥\n",
       "                                  ___              ⎥\n",
       "                               -╲╱ 3 ⋅c            ⎥\n",
       "     0                         ─────────           ⎥\n",
       "                                   2               ⎦"
      ]
     },
     "execution_count": 20,
     "metadata": {},
     "output_type": "execute_result"
    }
   ],
   "source": [
    "K2"
   ]
  },
  {
   "cell_type": "markdown",
   "metadata": {},
   "source": [
    "rows 2, 6 added to 10; 3,7 added to 11; 0,4 added to 8; and 3,1 added to 9"
   ]
  },
  {
   "cell_type": "code",
   "execution_count": 21,
   "metadata": {
    "collapsed": false
   },
   "outputs": [],
   "source": [
    "S1 = sym.zeros(12, 12)\n",
    "for i in range(12):\n",
    "    for j in range(12):\n",
    "        if  i==j or (i==8 and (j==0 or j==4)) or (i==9 and (j==1 or j==5)) or\\\n",
    "         (i==10 and (j==2 or j==6) or (i==11 and (j==3 or j==7))):\n",
    "            S1[i, j] = 1"
   ]
  },
  {
   "cell_type": "code",
   "execution_count": 22,
   "metadata": {
    "collapsed": false
   },
   "outputs": [
    {
     "data": {
      "image/png": "[encoded data removed]",
      "text/latex": [
       "$$\\left[\\begin{array}{cccccccccccc}1 & 0 & 0 & 0 & 0 & 0 & 0 & 0 & 0 & 0 & 0 & 0\\\\0 & 1 & 0 & 0 & 0 & 0 & 0 & 0 & 0 & 0 & 0 & 0\\\\0 & 0 & 1 & 0 & 0 & 0 & 0 & 0 & 0 & 0 & 0 & 0\\\\0 & 0 & 0 & 1 & 0 & 0 & 0 & 0 & 0 & 0 & 0 & 0\\\\0 & 0 & 0 & 0 & 1 & 0 & 0 & 0 & 0 & 0 & 0 & 0\\\\0 & 0 & 0 & 0 & 0 & 1 & 0 & 0 & 0 & 0 & 0 & 0\\\\0 & 0 & 0 & 0 & 0 & 0 & 1 & 0 & 0 & 0 & 0 & 0\\\\0 & 0 & 0 & 0 & 0 & 0 & 0 & 1 & 0 & 0 & 0 & 0\\\\1 & 0 & 0 & 0 & 1 & 0 & 0 & 0 & 1 & 0 & 0 & 0\\\\0 & 1 & 0 & 0 & 0 & 1 & 0 & 0 & 0 & 1 & 0 & 0\\\\0 & 0 & 1 & 0 & 0 & 0 & 1 & 0 & 0 & 0 & 1 & 0\\\\0 & 0 & 0 & 1 & 0 & 0 & 0 & 1 & 0 & 0 & 0 & 1\\end{array}\\right]$$"
      ],
      "text/plain": [
       "⎡1  0  0  0  0  0  0  0  0  0  0  0⎤\n",
       "⎢                                  ⎥\n",
       "⎢0  1  0  0  0  0  0  0  0  0  0  0⎥\n",
       "⎢                                  ⎥\n",
       "⎢0  0  1  0  0  0  0  0  0  0  0  0⎥\n",
       "⎢                                  ⎥\n",
       "⎢0  0  0  1  0  0  0  0  0  0  0  0⎥\n",
       "⎢                                  ⎥\n",
       "⎢0  0  0  0  1  0  0  0  0  0  0  0⎥\n",
       "⎢                                  ⎥\n",
       "⎢0  0  0  0  0  1  0  0  0  0  0  0⎥\n",
       "⎢                                  ⎥\n",
       "⎢0  0  0  0  0  0  1  0  0  0  0  0⎥\n",
       "⎢                                  ⎥\n",
       "⎢0  0  0  0  0  0  0  1  0  0  0  0⎥\n",
       "⎢                                  ⎥\n",
       "⎢1  0  0  0  1  0  0  0  1  0  0  0⎥\n",
       "⎢                                  ⎥\n",
       "⎢0  1  0  0  0  1  0  0  0  1  0  0⎥\n",
       "⎢                                  ⎥\n",
       "⎢0  0  1  0  0  0  1  0  0  0  1  0⎥\n",
       "⎢                                  ⎥\n",
       "⎣0  0  0  1  0  0  0  1  0  0  0  1⎦"
      ]
     },
     "execution_count": 22,
     "metadata": {},
     "output_type": "execute_result"
    }
   ],
   "source": [
    "S1"
   ]
  },
  {
   "cell_type": "code",
   "execution_count": 23,
   "metadata": {
    "collapsed": false
   },
   "outputs": [],
   "source": [
    "K3 = S1*K2*S1.transpose()"
   ]
  },
  {
   "cell_type": "code",
   "execution_count": 24,
   "metadata": {
    "collapsed": false
   },
   "outputs": [],
   "source": [
    "M2 = S1*M*S1.transpose()"
   ]
  },
  {
   "cell_type": "markdown",
   "metadata": {},
   "source": [
    "Delete rows 0 to 7"
   ]
  },
  {
   "cell_type": "code",
   "execution_count": 25,
   "metadata": {
    "collapsed": true
   },
   "outputs": [],
   "source": [
    "D = sym.zeros(4, 12)\n",
    "for i in range(4):\n",
    "    D[i, i+8] = 1"
   ]
  },
  {
   "cell_type": "code",
   "execution_count": 26,
   "metadata": {
    "collapsed": false
   },
   "outputs": [],
   "source": [
    "def rewrite_cos(expr):\n",
    "    return expr.rewrite(cos)\n",
    "K4 = D*K3*D.transpose()\n",
    "K4 = K4.applyfunc(rewrite_cos).expand()"
   ]
  },
  {
   "cell_type": "code",
   "execution_count": 27,
   "metadata": {
    "collapsed": false
   },
   "outputs": [],
   "source": [
    "M3 = D*M2*D.transpose()"
   ]
  },
  {
   "cell_type": "markdown",
   "metadata": {},
   "source": [
    "We don't need c/m since they can be a factor to divide the eigenvalues"
   ]
  },
  {
   "cell_type": "code",
   "execution_count": 28,
   "metadata": {
    "collapsed": false
   },
   "outputs": [],
   "source": [
    "Keff = (M3.inv()*K4)*m*omega**2/c\n",
    "Keff = sym.trigsimp(Keff)"
   ]
  },
  {
   "cell_type": "markdown",
   "metadata": {},
   "source": [
    "We can make some substitutions"
   ]
  },
  {
   "cell_type": "code",
   "execution_count": 29,
   "metadata": {
    "collapsed": true
   },
   "outputs": [],
   "source": [
    "skp, skm, ckp, ckm, ckx, skx = sym.symbols('skp skm ckp ckm ckx skx')"
   ]
  },
  {
   "cell_type": "code",
   "execution_count": 30,
   "metadata": {
    "collapsed": false
   },
   "outputs": [],
   "source": [
    "Keff2 = Keff.subs([(a*(kx - sqrt(3)*ky)/2, -kp),\n",
    "                   (a*(kx + sqrt(3)*ky)/2, km)])\n",
    "Keff2 = Keff2.subs([(a, 1),\n",
    "                    (sin(kp), skp),\n",
    "                    (sin(km), skm),\n",
    "                    (cos(kp), ckp),\n",
    "                    (cos(km), ckm),\n",
    "                    (cos(kx), ckx),\n",
    "                    (sin(kx), skx)])"
   ]
  },
  {
   "cell_type": "code",
   "execution_count": null,
   "metadata": {
    "collapsed": true
   },
   "outputs": [],
   "source": []
  }
 ],
 "metadata": {
  "kernelspec": {
   "display_name": "Python 2",
   "language": "python",
   "name": "python2"
  },
  "language_info": {
   "codemirror_mode": {
    "name": "ipython",
    "version": 2
   },
   "file_extension": ".py",
   "mimetype": "text/x-python",
   "name": "python",
   "nbconvert_exporter": "python",
   "pygments_lexer": "ipython2",
   "version": "2.7.6"
  }
 },
 "nbformat": 4,
 "nbformat_minor": 0
}
